{
 "cells": [
  {
   "cell_type": "code",
   "execution_count": 1,
   "metadata": {},
   "outputs": [],
   "source": [
    "import os\n",
    "os.chdir('../')"
   ]
  },
  {
   "cell_type": "code",
   "execution_count": 2,
   "metadata": {},
   "outputs": [
    {
     "data": {
      "text/plain": [
       "'c:\\\\Users\\\\sjasm\\\\Documents\\\\Text-Summarization'"
      ]
     },
     "execution_count": 2,
     "metadata": {},
     "output_type": "execute_result"
    }
   ],
   "source": [
    "%pwd"
   ]
  },
  {
   "cell_type": "code",
   "execution_count": 19,
   "metadata": {},
   "outputs": [],
   "source": [
    "from dataclasses import dataclass\n",
    "from pathlib import Path\n",
    "\n",
    "\n",
    "@dataclass(frozen=True)\n",
    "class ModelPredictionConfig:\n",
    "    model_path: Path\n",
    "    tokenizer_path: Path\n",
    "    length_penalty: float\n",
    "    num_beams: int\n",
    "    max_length: int\n",
    "    "
   ]
  },
  {
   "cell_type": "code",
   "execution_count": 20,
   "metadata": {},
   "outputs": [],
   "source": [
    "from textSummarization.constants import *\n",
    "from textSummarization.utils.common import read_yaml, create_directories"
   ]
  },
  {
   "cell_type": "code",
   "execution_count": 24,
   "metadata": {},
   "outputs": [],
   "source": [
    "class ConfigurationManager:\n",
    "    def __init__(\n",
    "        self,\n",
    "        config_filepath = CONFIG_FILE_PATH,\n",
    "        params_filepath = PARAMS_FILE_PATH):\n",
    "\n",
    "        self.config = read_yaml(config_filepath)\n",
    "        self.params = read_yaml(params_filepath)\n",
    "\n",
    "        create_directories([self.config.artifacts_root])\n",
    "\n",
    "\n",
    "    \n",
    "    def get_model_prediction_config(self) -> ModelPredictionConfig:\n",
    "        config = self.config.prediction\n",
    "        params = self.params.PredictionArguments\n",
    "\n",
    "\n",
    "\n",
    "        #create_directories([config.root_dir])\n",
    "\n",
    "        model_prediction_config = ModelPredictionConfig(\n",
    "            model_path = config.model_path,\n",
    "            tokenizer_path = config.tokenizer_path,\n",
    "            length_penalty = params.length_penalty,\n",
    "            num_beams = params.num_beams,\n",
    "            max_length = params.max_length,\n",
    "           \n",
    "        )\n",
    "\n",
    "        return model_prediction_config"
   ]
  },
  {
   "cell_type": "code",
   "execution_count": 25,
   "metadata": {},
   "outputs": [],
   "source": [
    "from datasets import load_dataset, load_from_disk\n",
    "from transformers import AutoModelForSeq2SeqLM, AutoTokenizer"
   ]
  },
  {
   "cell_type": "code",
   "execution_count": 7,
   "metadata": {},
   "outputs": [],
   "source": [
    "from transformers import pipeline"
   ]
  },
  {
   "cell_type": "code",
   "execution_count": 8,
   "metadata": {},
   "outputs": [],
   "source": [
    "import torch"
   ]
  },
  {
   "cell_type": "code",
   "execution_count": 26,
   "metadata": {},
   "outputs": [],
   "source": [
    "class ModelPrediction:\n",
    "    def __init__(self, config: ModelPredictionConfig):\n",
    "        self.config = config\n",
    "        self.gen_kwargs = {\"length_penalty\": config.length_penalty, \"num_beams\": config.num_beams, \"max_length\": config.max_length}\n",
    "\n",
    "\n",
    "    def predict(self, text):\n",
    "\n",
    "        device = \"cuda\" if torch.cuda.is_available() else \"cpu\"\n",
    "        tokenizer = AutoTokenizer.from_pretrained(self.config.tokenizer_path)\n",
    "        model_pegasus = AutoModelForSeq2SeqLM.from_pretrained(self.config.model_path).to(device)\n",
    "        \n",
    "        sample_text = text\n",
    "        #pipelining\n",
    "\n",
    "        pipe = pipeline(\"summarization\", model=model_pegasus, tokenizer=tokenizer)\n",
    "        gen_text = pipe(sample_text, **self.gen_kwargs)[0][\"summary_text\"]\n",
    "\n",
    "        return gen_text"
   ]
  },
  {
   "cell_type": "code",
   "execution_count": 27,
   "metadata": {},
   "outputs": [
    {
     "name": "stdout",
     "output_type": "stream",
     "text": [
      "[2023-09-01 21:48:11,447: INFO: common: yaml file: config\\config.yaml loaded successfully]\n",
      "[2023-09-01 21:48:11,458: INFO: common: yaml file: params.yaml loaded successfully]\n",
      "[2023-09-01 21:48:11,464: INFO: common: created directory at: artifacts]\n"
     ]
    },
    {
     "name": "stderr",
     "output_type": "stream",
     "text": [
      "Your max_length is set to 128, but your input_length is only 80. Since this is a summarization task, where outputs shorter than the input are typically wanted, you might consider decreasing max_length manually, e.g. summarizer('...', max_length=40)\n"
     ]
    },
    {
     "name": "stdout",
     "output_type": "stream",
     "text": [
      "The schematic diagram provides an overview of how the Text Summarization Streamlit Application functions .<n>The final product prototype embodies our commitment to delivering a valuable and accessible text summarization tool to a wide range of users .\n"
     ]
    }
   ],
   "source": [
    "try:\n",
    "    config = ConfigurationManager()\n",
    "    model_pred_config = config.get_model_prediction_config()\n",
    "    text  = \"The schematic diagram provides an overview of how the Text Summarization Streamlit Application functions, from user input to the generation of high-quality summaries, all while maintaining ethical and user-friendly principles.This final product prototype embodies our commitment to delivering a valuable and accessible text summarization tool to a wide range of users, revolutionizing the way they extract insights and knowledge from extensive textual content.\"\n",
    "    prediction = ModelPrediction(config=model_pred_config)\n",
    "    print(prediction.predict(text =  text))\n",
    "except Exception as e:\n",
    "    raise e"
   ]
  },
  {
   "cell_type": "code",
   "execution_count": null,
   "metadata": {},
   "outputs": [],
   "source": []
  }
 ],
 "metadata": {
  "kernelspec": {
   "display_name": "textsum",
   "language": "python",
   "name": "python3"
  },
  "language_info": {
   "codemirror_mode": {
    "name": "ipython",
    "version": 3
   },
   "file_extension": ".py",
   "mimetype": "text/x-python",
   "name": "python",
   "nbconvert_exporter": "python",
   "pygments_lexer": "ipython3",
   "version": "3.8.17"
  },
  "orig_nbformat": 4
 },
 "nbformat": 4,
 "nbformat_minor": 2
}
